{
  "nbformat": 4,
  "nbformat_minor": 0,
  "metadata": {
    "colab": {
      "provenance": [],
      "authorship_tag": "ABX9TyMfEyvy9RafvbFGlRksJjcK",
      "include_colab_link": true
    },
    "kernelspec": {
      "name": "python3",
      "display_name": "Python 3"
    },
    "language_info": {
      "name": "python"
    }
  },
  "cells": [
    {
      "cell_type": "markdown",
      "metadata": {
        "id": "view-in-github",
        "colab_type": "text"
      },
      "source": [
        "<a href=\"https://colab.research.google.com/github/Zero0-18/dap-2024/blob/main/les01/rep.ipynb\" target=\"_parent\"><img src=\"https://colab.research.google.com/assets/colab-badge.svg\" alt=\"Open In Colab\"/></a>"
      ]
    },
    {
      "cell_type": "markdown",
      "source": [
        "# Лабораторная работа 1\n"
      ],
      "metadata": {
        "id": "Xoxnkq_5WMtu"
      }
    },
    {
      "cell_type": "markdown",
      "source": [
        "1. Была создана учетная запись в [GitHub](https://github.com/)\n",
        "2. Был выполнен форк репозитория _преподавателя_\n",
        "3. Связали учетные записи __Google__ и **Github**\n",
        "4. Был создан отчет в **Google Colab** с разметкой ***Markdown*** :\n",
        " + списки,\n",
        "* c значками\n",
        "~зачеркнутый~, ***жирный курсив*** и так далее\n",
        "5. Отчет был сохранен в директории *./les01*\n",
        "6. Был создан pull request с форматом <Лабораторная работа 1> <12002208> <Литвин Софья Александровна>\n",
        "7. В пегасе указана ссылка на pull request"
      ],
      "metadata": {
        "id": "ZVXeYP9QXT_L"
      }
    }
  ]
}